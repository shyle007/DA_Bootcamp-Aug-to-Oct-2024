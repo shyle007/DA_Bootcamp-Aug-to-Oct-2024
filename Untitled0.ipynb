{
  "nbformat": 4,
  "nbformat_minor": 0,
  "metadata": {
    "colab": {
      "provenance": []
    },
    "kernelspec": {
      "name": "python3",
      "display_name": "Python 3"
    },
    "language_info": {
      "name": "python"
    }
  },
  "cells": [
    {
      "cell_type": "code",
      "execution_count": null,
      "metadata": {
        "id": "Vi4WljR6xKjg",
        "colab": {
          "base_uri": "https://localhost:8080/"
        },
        "outputId": "7ff4d50e-5d79-416a-f762-bbc9095b31a2"
      },
      "outputs": [
        {
          "output_type": "execute_result",
          "data": {
            "text/plain": [
              "160.84372494752262"
            ]
          },
          "metadata": {},
          "execution_count": 1
        }
      ],
      "source": [
        "#modulo\n",
        "100*(1.02)**24\n"
      ]
    },
    {
      "cell_type": "code",
      "source": [
        "#Example 02\n",
        "100*(1.1)**7"
      ],
      "metadata": {
        "colab": {
          "base_uri": "https://localhost:8080/"
        },
        "id": "PguxSPV7GqSE",
        "outputId": "5d388051-2b48-4846-d6ff-749eb1f2601e"
      },
      "execution_count": null,
      "outputs": [
        {
          "output_type": "execute_result",
          "data": {
            "text/plain": [
              "194.87171000000012"
            ]
          },
          "metadata": {},
          "execution_count": 3
        }
      ]
    },
    {
      "cell_type": "markdown",
      "source": [
        "#Python Code"
      ],
      "metadata": {
        "id": "vhKW6OVjG6R6"
      }
    },
    {
      "cell_type": "code",
      "source": [
        "# add\n",
        "2+2"
      ],
      "metadata": {
        "colab": {
          "base_uri": "https://localhost:8080/"
        },
        "id": "MYOdMhA1G5yg",
        "outputId": "270db9bb-fa5f-4fd1-a923-2426862ac06f"
      },
      "execution_count": null,
      "outputs": [
        {
          "output_type": "execute_result",
          "data": {
            "text/plain": [
              "4"
            ]
          },
          "metadata": {},
          "execution_count": 4
        }
      ]
    },
    {
      "cell_type": "code",
      "source": [
        "# subtract\n",
        "4-3"
      ],
      "metadata": {
        "colab": {
          "base_uri": "https://localhost:8080/"
        },
        "id": "ZHaDw7JoHFGQ",
        "outputId": "52e1fa54-3c08-440e-c342-a618993476a8"
      },
      "execution_count": null,
      "outputs": [
        {
          "output_type": "execute_result",
          "data": {
            "text/plain": [
              "1"
            ]
          },
          "metadata": {},
          "execution_count": 5
        }
      ]
    },
    {
      "cell_type": "code",
      "source": [
        "# multiply\n",
        "2*10"
      ],
      "metadata": {
        "colab": {
          "base_uri": "https://localhost:8080/"
        },
        "id": "O_yLY4FHHLiA",
        "outputId": "f7ae31dc-7e01-41bc-915e-c6eb0a1d0945"
      },
      "execution_count": null,
      "outputs": [
        {
          "output_type": "execute_result",
          "data": {
            "text/plain": [
              "20"
            ]
          },
          "metadata": {},
          "execution_count": 6
        }
      ]
    },
    {
      "cell_type": "code",
      "source": [
        "#modulo\n",
        "100%2\n"
      ],
      "metadata": {
        "colab": {
          "base_uri": "https://localhost:8080/"
        },
        "id": "Anqn8_5kHRiH",
        "outputId": "d3dbc36d-3ac2-4c59-c083-7fea7454f514"
      },
      "execution_count": null,
      "outputs": [
        {
          "output_type": "execute_result",
          "data": {
            "text/plain": [
              "0"
            ]
          },
          "metadata": {},
          "execution_count": 7
        }
      ]
    },
    {
      "cell_type": "code",
      "source": [
        "#modulo\n",
        "2%100"
      ],
      "metadata": {
        "colab": {
          "base_uri": "https://localhost:8080/"
        },
        "id": "oKz32RE7HWcS",
        "outputId": "120c6ba0-1192-40fd-cb2e-99f476f7d978"
      },
      "execution_count": null,
      "outputs": [
        {
          "output_type": "execute_result",
          "data": {
            "text/plain": [
              "2"
            ]
          },
          "metadata": {},
          "execution_count": 8
        }
      ]
    },
    {
      "cell_type": "code",
      "source": [
        "age = 25\n"
      ],
      "metadata": {
        "id": "e5sWV98fIgG0"
      },
      "execution_count": null,
      "outputs": []
    },
    {
      "cell_type": "code",
      "source": [
        "print (age)"
      ],
      "metadata": {
        "colab": {
          "base_uri": "https://localhost:8080/"
        },
        "id": "DVYce2cGGyfW",
        "outputId": "d8dab2b5-0629-4479-93ac-67e6d0cfb8bd"
      },
      "execution_count": null,
      "outputs": [
        {
          "output_type": "stream",
          "name": "stdout",
          "text": [
            "25\n"
          ]
        }
      ]
    },
    {
      "cell_type": "code",
      "source": [
        "# write age, name of a person and height and calculate his age in 10 years and show all variables via print"
      ],
      "metadata": {
        "id": "wi1o2-cZKXt3"
      },
      "execution_count": null,
      "outputs": []
    },
    {
      "cell_type": "code",
      "source": [
        "age = 27\n",
        "name = \"zain ahmed\"\n",
        "Height = 5.4"
      ],
      "metadata": {
        "id": "PKFK4g0TKXk7"
      },
      "execution_count": null,
      "outputs": []
    },
    {
      "cell_type": "code",
      "source": [
        "print(age)\n",
        "print(name)\n",
        "print(Height)"
      ],
      "metadata": {
        "colab": {
          "base_uri": "https://localhost:8080/"
        },
        "id": "TFS2gu7mLDzB",
        "outputId": "a1e80117-c30c-4faf-d48f-9034633b8f54"
      },
      "execution_count": null,
      "outputs": [
        {
          "output_type": "stream",
          "name": "stdout",
          "text": [
            "27\n",
            "zain ahmed\n",
            "5.4\n"
          ]
        }
      ]
    },
    {
      "cell_type": "code",
      "source": [
        "#ageIn10 = age + (10)\n",
        "print(ageIn10)\n"
      ],
      "metadata": {
        "colab": {
          "base_uri": "https://localhost:8080/"
        },
        "id": "SV--vkdPML7L",
        "outputId": "84bddd4c-ff70-48de-e424-4d9ae5db5de6"
      },
      "execution_count": null,
      "outputs": [
        {
          "output_type": "stream",
          "name": "stdout",
          "text": [
            "37\n"
          ]
        }
      ]
    },
    {
      "cell_type": "code",
      "source": [
        "#type of var\n",
        "int= 25\n",
        "str = \"name\"\n",
        "float= 25.5\n",
        "bool = True or False or None"
      ],
      "metadata": {
        "id": "YXjsMeesOKRH"
      },
      "execution_count": null,
      "outputs": []
    },
    {
      "cell_type": "code",
      "source": [
        "name = \"zain\"\n",
        "age = 27\n",
        "height = 5.4\n",
        "type(Height)\n",
        "type(name)\n",
        "type(age)\n"
      ],
      "metadata": {
        "colab": {
          "base_uri": "https://localhost:8080/"
        },
        "id": "ni4HUcsPWQzk",
        "outputId": "77849e96-09e0-411e-e1c2-7f7d7ba1d707"
      },
      "execution_count": null,
      "outputs": [
        {
          "output_type": "execute_result",
          "data": {
            "text/plain": [
              "int"
            ]
          },
          "metadata": {},
          "execution_count": 106
        }
      ]
    },
    {
      "cell_type": "code",
      "source": [
        "savings = int(100)\n",
        "print(savings)"
      ],
      "metadata": {
        "colab": {
          "base_uri": "https://localhost:8080/",
          "height": 159
        },
        "id": "a2496ruGpo3E",
        "outputId": "e3da6b47-8839-44ab-9f32-b960ca64cf88"
      },
      "execution_count": 125,
      "outputs": [
        {
          "output_type": "error",
          "ename": "TypeError",
          "evalue": "'int' object is not callable",
          "traceback": [
            "\u001b[0;31m---------------------------------------------------------------------------\u001b[0m",
            "\u001b[0;31mTypeError\u001b[0m                                 Traceback (most recent call last)",
            "\u001b[0;32m<ipython-input-125-6d4b7b6b0af8>\u001b[0m in \u001b[0;36m<cell line: 1>\u001b[0;34m()\u001b[0m\n\u001b[0;32m----> 1\u001b[0;31m \u001b[0msavings\u001b[0m \u001b[0;34m=\u001b[0m \u001b[0mint\u001b[0m\u001b[0;34m(\u001b[0m\u001b[0;36m100\u001b[0m\u001b[0;34m)\u001b[0m\u001b[0;34m\u001b[0m\u001b[0;34m\u001b[0m\u001b[0m\n\u001b[0m\u001b[1;32m      2\u001b[0m \u001b[0mprint\u001b[0m\u001b[0;34m(\u001b[0m\u001b[0msavings\u001b[0m\u001b[0;34m)\u001b[0m\u001b[0;34m\u001b[0m\u001b[0;34m\u001b[0m\u001b[0m\n",
            "\u001b[0;31mTypeError\u001b[0m: 'int' object is not callable"
          ]
        }
      ]
    }
  ]
}